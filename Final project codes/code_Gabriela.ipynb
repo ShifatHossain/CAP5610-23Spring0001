{
 "cells": [
  {
   "cell_type": "markdown",
   "metadata": {},
   "source": [
    "#### Author Name: Gabriela Shamblin\n",
    "#### Dataset: Purchase Card (PCard) Fiscal Year 2014 [Link](https://catalog.data.gov/dataset/purchase-card-pcard-fiscal-year-2014)"
   ]
  },
  {
   "cell_type": "code",
   "execution_count": null,
   "metadata": {
    "colab": {
     "base_uri": "https://localhost:8080/",
     "height": 35
    },
    "id": "o85xdCQtEdbj",
    "outputId": "caf98bf1-df27-4c04-b5bb-bf2721b3b2d1"
   },
   "outputs": [
    {
     "data": {
      "text/plain": [
       "<Figure size 600x300 with 0 Axes>"
      ]
     },
     "metadata": {},
     "output_type": "display_data"
    }
   ],
   "source": [
    "#Packages related to general operating system & warnings\n",
    "import os \n",
    "import warnings\n",
    "import statistics\n",
    "warnings.filterwarnings('ignore')\n",
    "\n",
    "#Packages related to data importing, manipulation, exploratory data #analysis, data understanding\n",
    "import numpy as np\n",
    "import pandas as pd\n",
    "from pandas import Series, DataFrame\n",
    "from termcolor import colored as cl # text customization\n",
    "\n",
    "#Packages related to data visualizaiton\n",
    "import seaborn as sns\n",
    "import matplotlib.pyplot as plt\n",
    "%matplotlib inline\n",
    "\n",
    "#Setting plot sizes and type of plot\n",
    "plt.rc(\"font\", size=14)\n",
    "plt.rcParams['axes.grid'] = True\n",
    "plt.figure(figsize=(6,3))\n",
    "plt.gray()\n",
    "\n",
    "from sklearn import metrics\n",
    "from sklearn.datasets import make_blobs\n",
    "from sklearn.model_selection import train_test_split\n",
    "\n",
    "from sklearn.preprocessing import StandardScaler\n",
    "from sklearn.cluster import KMeans\n",
    "\n",
    "from sklearn.tree import DecisionTreeClassifier, DecisionTreeRegressor\n",
    "from sklearn.neighbors import KNeighborsClassifier, KNeighborsRegressor\n",
    "from sklearn.linear_model import LogisticRegression, LinearRegression\n",
    "from sklearn.svm import LinearSVC, LinearSVR, SVC, SVR\n",
    "from sklearn.ensemble import RandomForestClassifier, RandomForestRegressor\n",
    "from sklearn.ensemble import AdaBoostClassifier, AdaBoostRegressor \n",
    "from sklearn.neural_network import MLPClassifier, MLPRegressor\n",
    "\n",
    "from sklearn.metrics import f1_score\n",
    "from sklearn.metrics import accuracy_score\n",
    "from sklearn.metrics import confusion_matrix"
   ]
  },
  {
   "cell_type": "code",
   "execution_count": null,
   "metadata": {
    "colab": {
     "base_uri": "https://localhost:8080/"
    },
    "id": "9i_Wiu03FH4c",
    "outputId": "597e5cfa-0f73-42e2-ee39-83007cfe6bd9"
   },
   "outputs": [
    {
     "name": "stdout",
     "output_type": "stream",
     "text": [
      "<class 'pandas.core.frame.DataFrame'>\n",
      "RangeIndex: 442458 entries, 0 to 442457\n",
      "Data columns (total 11 columns):\n",
      " #   Column                        Non-Null Count   Dtype  \n",
      "---  ------                        --------------   -----  \n",
      " 0   Year-Month                    442458 non-null  int64  \n",
      " 1   Agency Number                 442458 non-null  int64  \n",
      " 2   Agency Name                   442458 non-null  object \n",
      " 3   Cardholder Last Name          442458 non-null  object \n",
      " 4   Cardholder First Initial      442458 non-null  object \n",
      " 5   Description                   442458 non-null  object \n",
      " 6   Amount                        442458 non-null  float64\n",
      " 7   Vendor                        442458 non-null  object \n",
      " 8   Transaction Date              442458 non-null  object \n",
      " 9   Posted Date                   442458 non-null  object \n",
      " 10  Merchant Category Code (MCC)  442458 non-null  object \n",
      "dtypes: float64(1), int64(2), object(8)\n",
      "memory usage: 37.1+ MB\n"
     ]
    },
    {
     "data": {
      "text/plain": [
       "(442458, 11)"
      ]
     },
     "execution_count": 22,
     "metadata": {},
     "output_type": "execute_result"
    }
   ],
   "source": [
    "data = pd.read_csv(\"data-purchases-fiscal-year.csv\")\n",
    "num_transaction = len(data)\n",
    "data.info()\n",
    "data.shape"
   ]
  },
  {
   "cell_type": "code",
   "execution_count": null,
   "metadata": {
    "colab": {
     "base_uri": "https://localhost:8080/"
    },
    "id": "p9La7HQ3OsT5",
    "outputId": "a3f8d9b1-1fdc-445a-93ff-b954e5fe408b"
   },
   "outputs": [
    {
     "name": "stdout",
     "output_type": "stream",
     "text": [
      "<class 'pandas.core.frame.DataFrame'>\n",
      "Int64Index: 427410 entries, 0 to 442457\n",
      "Data columns (total 11 columns):\n",
      " #   Column                        Non-Null Count   Dtype  \n",
      "---  ------                        --------------   -----  \n",
      " 0   Year-Month                    427410 non-null  int64  \n",
      " 1   Agency Number                 427410 non-null  int64  \n",
      " 2   Agency Name                   427410 non-null  object \n",
      " 3   Cardholder Last Name          427410 non-null  object \n",
      " 4   Cardholder First Initial      427410 non-null  object \n",
      " 5   Description                   427410 non-null  object \n",
      " 6   Amount                        427410 non-null  float64\n",
      " 7   Vendor                        427410 non-null  object \n",
      " 8   Transaction Date              427410 non-null  object \n",
      " 9   Posted Date                   427410 non-null  object \n",
      " 10  Merchant Category Code (MCC)  427410 non-null  object \n",
      "dtypes: float64(1), int64(2), object(8)\n",
      "memory usage: 39.1+ MB\n"
     ]
    }
   ],
   "source": [
    "data.drop_duplicates(inplace=True)\n",
    "data.info()\n",
    "# ~15,000 duplicates"
   ]
  },
  {
   "cell_type": "markdown",
   "metadata": {
    "id": "r3RevjWBAtNG"
   },
   "source": [
    "# Preprocessing"
   ]
  },
  {
   "cell_type": "code",
   "execution_count": null,
   "metadata": {
    "colab": {
     "base_uri": "https://localhost:8080/",
     "height": 476
    },
    "id": "VK2RLxv0QYBs",
    "outputId": "f325d2c4-8384-4bf7-87e0-da2fcf58c296"
   },
   "outputs": [
    {
     "data": {
      "text/html": [
       "\n",
       "  <div id=\"df-5aa4669b-5166-4faf-872f-dcf314defc51\">\n",
       "    <div class=\"colab-df-container\">\n",
       "      <div>\n",
       "<style scoped>\n",
       "    .dataframe tbody tr th:only-of-type {\n",
       "        vertical-align: middle;\n",
       "    }\n",
       "\n",
       "    .dataframe tbody tr th {\n",
       "        vertical-align: top;\n",
       "    }\n",
       "\n",
       "    .dataframe thead th {\n",
       "        text-align: right;\n",
       "    }\n",
       "</style>\n",
       "<table border=\"1\" class=\"dataframe\">\n",
       "  <thead>\n",
       "    <tr style=\"text-align: right;\">\n",
       "      <th></th>\n",
       "      <th>Year-Month</th>\n",
       "      <th>Agency Number</th>\n",
       "      <th>Agency Name</th>\n",
       "      <th>Cardholder Last Name</th>\n",
       "      <th>Cardholder First Initial</th>\n",
       "      <th>Description</th>\n",
       "      <th>Amount</th>\n",
       "      <th>Vendor</th>\n",
       "      <th>Transaction Date</th>\n",
       "      <th>Posted Date</th>\n",
       "      <th>Merchant Category Code (MCC)</th>\n",
       "    </tr>\n",
       "  </thead>\n",
       "  <tbody>\n",
       "    <tr>\n",
       "      <th>0</th>\n",
       "      <td>201307</td>\n",
       "      <td>1000</td>\n",
       "      <td>OKLAHOMA STATE UNIVERSITY</td>\n",
       "      <td>Mason</td>\n",
       "      <td>C</td>\n",
       "      <td>GENERAL PURCHASE</td>\n",
       "      <td>890.00</td>\n",
       "      <td>NACAS</td>\n",
       "      <td>7/30/2013 0:00</td>\n",
       "      <td>7/31/2013 0:00</td>\n",
       "      <td>CHARITABLE AND SOCIAL SERVICE ORGANIZATIONS</td>\n",
       "    </tr>\n",
       "    <tr>\n",
       "      <th>1</th>\n",
       "      <td>201307</td>\n",
       "      <td>1000</td>\n",
       "      <td>OKLAHOMA STATE UNIVERSITY</td>\n",
       "      <td>Mason</td>\n",
       "      <td>C</td>\n",
       "      <td>ROOM CHARGES</td>\n",
       "      <td>368.96</td>\n",
       "      <td>SHERATON HOTEL</td>\n",
       "      <td>7/30/2013 0:00</td>\n",
       "      <td>7/31/2013 0:00</td>\n",
       "      <td>SHERATON</td>\n",
       "    </tr>\n",
       "    <tr>\n",
       "      <th>2</th>\n",
       "      <td>201307</td>\n",
       "      <td>1000</td>\n",
       "      <td>OKLAHOMA STATE UNIVERSITY</td>\n",
       "      <td>Massey</td>\n",
       "      <td>J</td>\n",
       "      <td>GENERAL PURCHASE</td>\n",
       "      <td>165.82</td>\n",
       "      <td>SEARS.COM 9300</td>\n",
       "      <td>7/29/2013 0:00</td>\n",
       "      <td>7/31/2013 0:00</td>\n",
       "      <td>DIRCT MARKETING/DIRCT MARKETERS--NOT ELSEWHERE...</td>\n",
       "    </tr>\n",
       "    <tr>\n",
       "      <th>3</th>\n",
       "      <td>201307</td>\n",
       "      <td>1000</td>\n",
       "      <td>OKLAHOMA STATE UNIVERSITY</td>\n",
       "      <td>Massey</td>\n",
       "      <td>T</td>\n",
       "      <td>GENERAL PURCHASE</td>\n",
       "      <td>96.39</td>\n",
       "      <td>WAL-MART #0137</td>\n",
       "      <td>7/30/2013 0:00</td>\n",
       "      <td>7/31/2013 0:00</td>\n",
       "      <td>GROCERY STORES,AND SUPERMARKETS</td>\n",
       "    </tr>\n",
       "    <tr>\n",
       "      <th>4</th>\n",
       "      <td>201307</td>\n",
       "      <td>1000</td>\n",
       "      <td>OKLAHOMA STATE UNIVERSITY</td>\n",
       "      <td>Mauro-Herrera</td>\n",
       "      <td>M</td>\n",
       "      <td>HAMMERMILL COPY PLUS COPY EA</td>\n",
       "      <td>125.96</td>\n",
       "      <td>STAPLES DIRECT</td>\n",
       "      <td>7/30/2013 0:00</td>\n",
       "      <td>7/31/2013 0:00</td>\n",
       "      <td>STATIONERY, OFFICE SUPPLIES, PRINTING AND WRIT...</td>\n",
       "    </tr>\n",
       "  </tbody>\n",
       "</table>\n",
       "</div>\n",
       "      <button class=\"colab-df-convert\" onclick=\"convertToInteractive('df-5aa4669b-5166-4faf-872f-dcf314defc51')\"\n",
       "              title=\"Convert this dataframe to an interactive table.\"\n",
       "              style=\"display:none;\">\n",
       "        \n",
       "  <svg xmlns=\"http://www.w3.org/2000/svg\" height=\"24px\"viewBox=\"0 0 24 24\"\n",
       "       width=\"24px\">\n",
       "    <path d=\"M0 0h24v24H0V0z\" fill=\"none\"/>\n",
       "    <path d=\"M18.56 5.44l.94 2.06.94-2.06 2.06-.94-2.06-.94-.94-2.06-.94 2.06-2.06.94zm-11 1L8.5 8.5l.94-2.06 2.06-.94-2.06-.94L8.5 2.5l-.94 2.06-2.06.94zm10 10l.94 2.06.94-2.06 2.06-.94-2.06-.94-.94-2.06-.94 2.06-2.06.94z\"/><path d=\"M17.41 7.96l-1.37-1.37c-.4-.4-.92-.59-1.43-.59-.52 0-1.04.2-1.43.59L10.3 9.45l-7.72 7.72c-.78.78-.78 2.05 0 2.83L4 21.41c.39.39.9.59 1.41.59.51 0 1.02-.2 1.41-.59l7.78-7.78 2.81-2.81c.8-.78.8-2.07 0-2.86zM5.41 20L4 18.59l7.72-7.72 1.47 1.35L5.41 20z\"/>\n",
       "  </svg>\n",
       "      </button>\n",
       "      \n",
       "  <style>\n",
       "    .colab-df-container {\n",
       "      display:flex;\n",
       "      flex-wrap:wrap;\n",
       "      gap: 12px;\n",
       "    }\n",
       "\n",
       "    .colab-df-convert {\n",
       "      background-color: #E8F0FE;\n",
       "      border: none;\n",
       "      border-radius: 50%;\n",
       "      cursor: pointer;\n",
       "      display: none;\n",
       "      fill: #1967D2;\n",
       "      height: 32px;\n",
       "      padding: 0 0 0 0;\n",
       "      width: 32px;\n",
       "    }\n",
       "\n",
       "    .colab-df-convert:hover {\n",
       "      background-color: #E2EBFA;\n",
       "      box-shadow: 0px 1px 2px rgba(60, 64, 67, 0.3), 0px 1px 3px 1px rgba(60, 64, 67, 0.15);\n",
       "      fill: #174EA6;\n",
       "    }\n",
       "\n",
       "    [theme=dark] .colab-df-convert {\n",
       "      background-color: #3B4455;\n",
       "      fill: #D2E3FC;\n",
       "    }\n",
       "\n",
       "    [theme=dark] .colab-df-convert:hover {\n",
       "      background-color: #434B5C;\n",
       "      box-shadow: 0px 1px 3px 1px rgba(0, 0, 0, 0.15);\n",
       "      filter: drop-shadow(0px 1px 2px rgba(0, 0, 0, 0.3));\n",
       "      fill: #FFFFFF;\n",
       "    }\n",
       "  </style>\n",
       "\n",
       "      <script>\n",
       "        const buttonEl =\n",
       "          document.querySelector('#df-5aa4669b-5166-4faf-872f-dcf314defc51 button.colab-df-convert');\n",
       "        buttonEl.style.display =\n",
       "          google.colab.kernel.accessAllowed ? 'block' : 'none';\n",
       "\n",
       "        async function convertToInteractive(key) {\n",
       "          const element = document.querySelector('#df-5aa4669b-5166-4faf-872f-dcf314defc51');\n",
       "          const dataTable =\n",
       "            await google.colab.kernel.invokeFunction('convertToInteractive',\n",
       "                                                     [key], {});\n",
       "          if (!dataTable) return;\n",
       "\n",
       "          const docLinkHtml = 'Like what you see? Visit the ' +\n",
       "            '<a target=\"_blank\" href=https://colab.research.google.com/notebooks/data_table.ipynb>data table notebook</a>'\n",
       "            + ' to learn more about interactive tables.';\n",
       "          element.innerHTML = '';\n",
       "          dataTable['output_type'] = 'display_data';\n",
       "          await google.colab.output.renderOutput(dataTable, element);\n",
       "          const docLink = document.createElement('div');\n",
       "          docLink.innerHTML = docLinkHtml;\n",
       "          element.appendChild(docLink);\n",
       "        }\n",
       "      </script>\n",
       "    </div>\n",
       "  </div>\n",
       "  "
      ],
      "text/plain": [
       "   Year-Month  Agency Number                Agency Name Cardholder Last Name  \\\n",
       "0      201307           1000  OKLAHOMA STATE UNIVERSITY                Mason   \n",
       "1      201307           1000  OKLAHOMA STATE UNIVERSITY                Mason   \n",
       "2      201307           1000  OKLAHOMA STATE UNIVERSITY               Massey   \n",
       "3      201307           1000  OKLAHOMA STATE UNIVERSITY               Massey   \n",
       "4      201307           1000  OKLAHOMA STATE UNIVERSITY        Mauro-Herrera   \n",
       "\n",
       "  Cardholder First Initial                   Description  Amount  \\\n",
       "0                        C              GENERAL PURCHASE  890.00   \n",
       "1                        C                  ROOM CHARGES  368.96   \n",
       "2                        J              GENERAL PURCHASE  165.82   \n",
       "3                        T              GENERAL PURCHASE   96.39   \n",
       "4                        M  HAMMERMILL COPY PLUS COPY EA  125.96   \n",
       "\n",
       "           Vendor Transaction Date     Posted Date  \\\n",
       "0           NACAS   7/30/2013 0:00  7/31/2013 0:00   \n",
       "1  SHERATON HOTEL   7/30/2013 0:00  7/31/2013 0:00   \n",
       "2  SEARS.COM 9300   7/29/2013 0:00  7/31/2013 0:00   \n",
       "3  WAL-MART #0137   7/30/2013 0:00  7/31/2013 0:00   \n",
       "4  STAPLES DIRECT   7/30/2013 0:00  7/31/2013 0:00   \n",
       "\n",
       "                        Merchant Category Code (MCC)  \n",
       "0        CHARITABLE AND SOCIAL SERVICE ORGANIZATIONS  \n",
       "1                                           SHERATON  \n",
       "2  DIRCT MARKETING/DIRCT MARKETERS--NOT ELSEWHERE...  \n",
       "3                    GROCERY STORES,AND SUPERMARKETS  \n",
       "4  STATIONERY, OFFICE SUPPLIES, PRINTING AND WRIT...  "
      ]
     },
     "execution_count": 24,
     "metadata": {},
     "output_type": "execute_result"
    }
   ],
   "source": [
    "# Clean up dates (including year-month)\n",
    "dataframe = pd.DataFrame(data, columns=['Year-Month', 'Agency Number', 'Agency Name', \n",
    "                                        'Cardholder Last Name', 'Cardholder First Initial',\n",
    "                                        'Description', 'Amount', 'Vendor', 'Transaction Date',\n",
    "                                        'Posted Date', 'Merchant Category Code (MCC)'])\n",
    "dataframe.head()"
   ]
  },
  {
   "cell_type": "code",
   "execution_count": null,
   "metadata": {
    "id": "8A9koEnFkTfk"
   },
   "outputs": [],
   "source": [
    "new_data = data\n",
    "new_data = data.drop(columns=['Year-Month', 'Agency Name', 'Cardholder Last Name', 'Cardholder First Initial', 'Description'])"
   ]
  },
  {
   "cell_type": "code",
   "execution_count": null,
   "metadata": {
    "id": "7Jsg6nX1IX9J"
   },
   "outputs": [],
   "source": [
    "new_data['Transaction Date'] = new_data['Transaction Date'].replace('([0-2][0-9]:[0-5][0-9]:[0-5][0-9] [AP]M)|([0-2]:[0-5][0-9])', '', regex=True)\n",
    "new_data['Transaction Date'] = new_data['Transaction Date'].replace('/', '', regex=True)\n",
    "new_data['Transaction Date'] = new_data['Transaction Date'].astype('int64')\n",
    "\n",
    "new_data['Posted Date'] = new_data['Posted Date'].replace('([0-2][0-9]:[0-5][0-9]:[0-5][0-9] [AP]M)|([0-2]:[0-5][0-9])', '', regex=True)\n",
    "new_data['Posted Date'] = new_data['Posted Date'].replace('/', '', regex=True)\n",
    "new_data['Posted Date'] = new_data['Posted Date'].astype('int64')"
   ]
  },
  {
   "cell_type": "code",
   "execution_count": null,
   "metadata": {
    "colab": {
     "base_uri": "https://localhost:8080/"
    },
    "id": "Fr3q-KxAU5cr",
    "outputId": "bdc2e646-7544-4f0b-eeeb-423e6716ad55"
   },
   "outputs": [
    {
     "data": {
      "text/plain": [
       "<bound method NDFrame.head of         Agency Number    Amount                     Vendor  Transaction Date  \\\n",
       "0                1000    890.00                      NACAS           7302013   \n",
       "1                1000    368.96             SHERATON HOTEL           7302013   \n",
       "2                1000    165.82                  SEARS.COM           7292013   \n",
       "3                1000     96.39                   WAL-MART           7302013   \n",
       "4                1000    125.96                    STAPLES           7302013   \n",
       "...               ...       ...                        ...               ...   \n",
       "442453          98000    992.00        TOTAL VALVE SYSTEMS           6202014   \n",
       "442454          98000   2415.00  PRYOR WASTE & RECYCLING L           6202014   \n",
       "442455          98000    177.50  ACCURATE ENVIROMENTAL LAB           6202014   \n",
       "442456          98000  32457.00            RED BUD SERVICE           6192014   \n",
       "442457          98000   4714.07      WARRENCAT CREDIT DEPT           6202014   \n",
       "\n",
       "        Posted Date                       Merchant Category Code (MCC)  \n",
       "0           7312013        CHARITABLE AND SOCIAL SERVICE ORGANIZATIONS  \n",
       "1           7312013                                           SHERATON  \n",
       "2           7312013  DIRCT MARKETING/DIRCT MARKETERS--NOT ELSEWHERE...  \n",
       "3           7312013                    GROCERY STORES,AND SUPERMARKETS  \n",
       "4           7312013  STATIONERY, OFFICE SUPPLIES, PRINTING AND WRIT...  \n",
       "...             ...                                                ...  \n",
       "442453      6232014                    HARDWARE EQUIPMENT AND SUPPLIES  \n",
       "442454      6232014            UTILITIES - ELECTRIC,GAS,WATER,SANITARY  \n",
       "442455      6232014         BUSINESS SERVICES NOT ELSEWHERE CLASSIFIED  \n",
       "442456      6232014     PROFESSIONAL SERVICES NOT ELSEWHERE CLASSIFIED  \n",
       "442457      6232014          MISCELLANEOUS AND SPECIALTY RETAIL STORES  \n",
       "\n",
       "[427410 rows x 6 columns]>"
      ]
     },
     "execution_count": 27,
     "metadata": {},
     "output_type": "execute_result"
    }
   ],
   "source": [
    "new_data['Vendor'] = new_data['Vendor'].replace('#[0-9]*', '', regex=True)\n",
    "new_data['Vendor'] = new_data['Vendor'].replace('[0-9]*', '', regex=True)\n",
    "new_data['Vendor'] = new_data['Vendor'].replace('STAPLES [A-Z]*', 'STAPLES', regex=True)\n",
    "new_data['Vendor'] = new_data['Vendor'].replace('STAPLS', 'STAPLES', regex=True)\n",
    "new_data['Vendor'] = new_data['Vendor'].replace('^AMAZON.', 'Amazon.com', regex=True)\n",
    "new_data['Vendor'] = new_data['Vendor'].replace('^STILLWATER.', 'STILLWATER', regex=True)\n",
    "new_data['Vendor'] = new_data['Vendor'].replace('^TRAINING.', 'TRAINING', regex=True)\n",
    "new_data['Vendor'] = new_data['Vendor'].replace('(=|,)*', '', regex=True)\n",
    "new_data['Vendor'] = new_data['Vendor'].replace('INC', '', regex=True)\n",
    "\n",
    "new_data['Vendor'] = new_data['Vendor'].replace('((\\s)+)$', '', regex=True)\n",
    "new_data['Vendor'] = new_data['Vendor'].replace('^((\\s)+)', '', regex=True)\n",
    "new_data['Vendor'] = new_data['Vendor'].replace('^([.=,-/]+)', '', regex=True)\n",
    "new_data['Vendor'] = new_data['Vendor'].replace('([=,-/]+)$', '', regex=True)\n",
    "\n",
    "new_data['Vendor'] = new_data['Vendor'].replace('^((\\s)+)', '', regex=True)\n",
    "new_data['Vendor'] = new_data['Vendor'].replace('((\\s)+)$', '', regex=True)\n",
    "\n",
    "new_data.head"
   ]
  },
  {
   "cell_type": "code",
   "execution_count": null,
   "metadata": {
    "colab": {
     "base_uri": "https://localhost:8080/"
    },
    "id": "PMKODRXDjd0K",
    "outputId": "705626e8-dbf9-4a23-f057-0cd403341d8e"
   },
   "outputs": [
    {
     "name": "stdout",
     "output_type": "stream",
     "text": [
      "<class 'pandas.core.frame.DataFrame'>\n",
      "Int64Index: 427410 entries, 0 to 442457\n",
      "Data columns (total 6 columns):\n",
      " #   Column                        Non-Null Count   Dtype  \n",
      "---  ------                        --------------   -----  \n",
      " 0   Agency Number                 427410 non-null  int64  \n",
      " 1   Amount                        427410 non-null  float64\n",
      " 2   Vendor                        427410 non-null  int32  \n",
      " 3   Transaction Date              427410 non-null  int64  \n",
      " 4   Posted Date                   427410 non-null  int64  \n",
      " 5   Merchant Category Code (MCC)  427410 non-null  int16  \n",
      "dtypes: float64(1), int16(1), int32(1), int64(3)\n",
      "memory usage: 18.8 MB\n"
     ]
    }
   ],
   "source": [
    "new_data['Vendor'] = new_data['Vendor'].astype('category').cat.codes.values\n",
    "new_data['Merchant Category Code (MCC)'] = new_data['Merchant Category Code (MCC)'].astype('category').cat.codes.values\n",
    "\n",
    "new_data.info()"
   ]
  },
  {
   "cell_type": "markdown",
   "metadata": {
    "id": "ZNMSaLjfEFXS"
   },
   "source": [
    "#Clustering"
   ]
  },
  {
   "cell_type": "code",
   "execution_count": null,
   "metadata": {
    "colab": {
     "base_uri": "https://localhost:8080/"
    },
    "id": "lopzAu2-ET-A",
    "outputId": "7c36333b-61bc-4857-ab1a-ca2b161313c3"
   },
   "outputs": [
    {
     "name": "stdout",
     "output_type": "stream",
     "text": [
      "[[4.26275652e+04 4.42294253e+02 1.88410930e+04 8.75658714e+06\n",
      "  8.94240396e+06 2.00272598e+02]\n",
      " [4.27983508e+04 4.23622564e+02 1.86097111e+04 2.16866269e+06\n",
      "  2.15741806e+06 2.00940016e+02]]\n"
     ]
    }
   ],
   "source": [
    "km = KMeans(init='random', n_clusters=2, n_init='auto', random_state=None).fit(new_data)\n",
    "centroids = km.cluster_centers_\n",
    "km_pred = km.predict(new_data)\n",
    "labels = pd.DataFrame(km.labels_)\n",
    "# new_data['Cluster'] = km.labels_\n",
    "\n",
    "print(centroids)\n",
    "\n",
    "# plt.scatter(new_data['Agency Number'], new_data['Amount'], c=km.labels_.astype(float), s=50, alpha=0.5)\n",
    "# plt.scatter(centroids[:, 0], centroids[:, 1], c='red', s=50)\n",
    "# plt.show()"
   ]
  },
  {
   "cell_type": "code",
   "execution_count": null,
   "metadata": {
    "colab": {
     "base_uri": "https://localhost:8080/"
    },
    "id": "gPPKify6lRIq",
    "outputId": "29ca0394-f408-4196-f54c-b52d799ed08c"
   },
   "outputs": [
    {
     "name": "stdout",
     "output_type": "stream",
     "text": [
      "        0\n",
      "0        \n",
      "1  257152\n",
      "0  170258\n"
     ]
    }
   ],
   "source": [
    "clusters = pd.DataFrame(labels.value_counts())\n",
    "# clusters = clusters.reset_index()\n",
    "# clusters.columns = ['Cluster', 'Count']\n",
    "# labels = clusters['Cluster']\n",
    "print(clusters)"
   ]
  },
  {
   "cell_type": "code",
   "execution_count": null,
   "metadata": {
    "id": "jBazBYrz7nNz"
   },
   "outputs": [],
   "source": [
    "from sklearn.decomposition import PCA\n",
    "import matplotlib.pyplot as plt\n",
    "from IPython.display import clear_output\n",
    "\n",
    "def plot_clusters(data, labels, centers):\n",
    "  pca = PCA(n_components=2)\n",
    "  data_2d = pca.fit_transform(data)\n",
    "  centers_2d = pca.transform(centers)\n",
    "  clear_output(wait=True)\n",
    "  plt.title('Clusters')\n",
    "  plt.scatter(x=data_2d[:,0], y=data_2d[:,1], c=labels)\n",
    "  plt.scatter(x=centers_2d[:,0], y=centers_2d[:,1], c=\"#ff0000\")\n",
    "  # plt.axes().set_facecolor(\"#5c9dd6\")\n",
    "  plt.show()"
   ]
  },
  {
   "cell_type": "code",
   "execution_count": null,
   "metadata": {
    "colab": {
     "base_uri": "https://localhost:8080/",
     "height": 484
    },
    "id": "vqQRp81M7oJQ",
    "outputId": "df13d557-8cb1-419d-deed-d4a20f2156bf"
   },
   "outputs": [
    {
     "data": {
      "image/png": "[encoded data removed]",
      "text/plain": [
       "<Figure size 640x480 with 1 Axes>"
      ]
     },
     "metadata": {},
     "output_type": "display_data"
    }
   ],
   "source": [
    "plot_clusters(new_data.to_numpy(), km.labels_, centroids)"
   ]
  },
  {
   "cell_type": "code",
   "execution_count": null,
   "metadata": {
    "id": "DAYa6fDfKVYn"
   },
   "outputs": [],
   "source": [
    "new_data.to_csv('cleaned_test_data_clusters.csv')"
   ]
  },
  {
   "cell_type": "markdown",
   "metadata": {
    "id": "krv8Y93fdW_A"
   },
   "source": [
    "## UMAP"
   ]
  },
  {
   "cell_type": "code",
   "execution_count": null,
   "metadata": {
    "colab": {
     "base_uri": "https://localhost:8080/"
    },
    "id": "ldCYEsOfw2pr",
    "outputId": "fb23eeb3-d509-4ac4-ddd0-54d3ac1d0acc"
   },
   "outputs": [
    {
     "name": "stdout",
     "output_type": "stream",
     "text": [
      "Looking in indexes: https://pypi.org/simple, https://us-python.pkg.dev/colab-wheels/public/simple/\n",
      "Collecting umap-learn\n",
      "  Downloading umap-learn-0.5.3.tar.gz (88 kB)\n",
      "\u001b[2K     \u001b[90m━━━━━━━━━━━━━━━━━━━━━━━━━━━━━━━━━━━━━━━━\u001b[0m \u001b[32m88.2/88.2 kB\u001b[0m \u001b[31m3.6 MB/s\u001b[0m eta \u001b[36m0:00:00\u001b[0m\n",
      "\u001b[?25h  Preparing metadata (setup.py) ... \u001b[?25l\u001b[?25hdone\n",
      "Requirement already satisfied: numpy>=1.17 in /usr/local/lib/python3.9/dist-packages (from umap-learn) (1.22.4)\n",
      "Requirement already satisfied: scikit-learn>=0.22 in /usr/local/lib/python3.9/dist-packages (from umap-learn) (1.2.2)\n",
      "Requirement already satisfied: scipy>=1.0 in /usr/local/lib/python3.9/dist-packages (from umap-learn) (1.10.1)\n",
      "Requirement already satisfied: numba>=0.49 in /usr/local/lib/python3.9/dist-packages (from umap-learn) (0.56.4)\n",
      "Collecting pynndescent>=0.5\n",
      "  Downloading pynndescent-0.5.10.tar.gz (1.1 MB)\n",
      "\u001b[2K     \u001b[90m━━━━━━━━━━━━━━━━━━━━━━━━━━━━━━━━━━━━━━━━\u001b[0m \u001b[32m1.1/1.1 MB\u001b[0m \u001b[31m22.6 MB/s\u001b[0m eta \u001b[36m0:00:00\u001b[0m\n",
      "\u001b[?25h  Preparing metadata (setup.py) ... \u001b[?25l\u001b[?25hdone\n",
      "Requirement already satisfied: tqdm in /usr/local/lib/python3.9/dist-packages (from umap-learn) (4.65.0)\n",
      "Requirement already satisfied: llvmlite<0.40,>=0.39.0dev0 in /usr/local/lib/python3.9/dist-packages (from numba>=0.49->umap-learn) (0.39.1)\n",
      "Requirement already satisfied: setuptools in /usr/local/lib/python3.9/dist-packages (from numba>=0.49->umap-learn) (67.6.1)\n",
      "Requirement already satisfied: joblib>=0.11 in /usr/local/lib/python3.9/dist-packages (from pynndescent>=0.5->umap-learn) (1.2.0)\n",
      "Requirement already satisfied: threadpoolctl>=2.0.0 in /usr/local/lib/python3.9/dist-packages (from scikit-learn>=0.22->umap-learn) (3.1.0)\n",
      "Building wheels for collected packages: umap-learn, pynndescent\n",
      "  Building wheel for umap-learn (setup.py) ... \u001b[?25l\u001b[?25hdone\n",
      "  Created wheel for umap-learn: filename=umap_learn-0.5.3-py3-none-any.whl size=82830 sha256=32d47491dc3cf917975395b25c130824f720f2cba163ddcc8ec77cce25efb89d\n",
      "  Stored in directory: /root/.cache/pip/wheels/f4/3e/1c/596d0a463d17475af648688443fa4846fef624d1390339e7e9\n",
      "  Building wheel for pynndescent (setup.py) ... \u001b[?25l\u001b[?25hdone\n",
      "  Created wheel for pynndescent: filename=pynndescent-0.5.10-py3-none-any.whl size=55640 sha256=522cda7e9ffbf419d71ebe8ae695cb3de7e56dd2b39ffecedd416b8ba27d3630\n",
      "  Stored in directory: /root/.cache/pip/wheels/12/f9/4d/ec5ad1c823c710fcc4473669fdcffc8891f4bc398c841af22e\n",
      "Successfully built umap-learn pynndescent\n",
      "Installing collected packages: pynndescent, umap-learn\n",
      "Successfully installed pynndescent-0.5.10 umap-learn-0.5.3\n"
     ]
    }
   ],
   "source": [
    "!pip install umap-learn"
   ]
  },
  {
   "cell_type": "code",
   "execution_count": null,
   "metadata": {
    "id": "cf66Z3HOdYnD"
   },
   "outputs": [],
   "source": [
    "import umap\n",
    "\n",
    "reducer = umap.UMAP()\n",
    "embedding = reducer.fit_transform(new_data)"
   ]
  },
  {
   "cell_type": "code",
   "execution_count": null,
   "metadata": {
    "colab": {
     "base_uri": "https://localhost:8080/",
     "height": 479
    },
    "id": "8Iq23Q-9eHWQ",
    "outputId": "3f07814d-23ea-4891-979d-61bb21b5bc98"
   },
   "outputs": [
    {
     "data": {
      "text/plain": [
       "<matplotlib.collections.PathCollection at 0x7faa13419550>"
      ]
     },
     "execution_count": 36,
     "metadata": {},
     "output_type": "execute_result"
    },
    {
     "data": {
      "image/png": "[encoded data removed]",
      "text/plain": [
       "<Figure size 640x480 with 1 Axes>"
      ]
     },
     "metadata": {},
     "output_type": "display_data"
    }
   ],
   "source": [
    "plt.title('K-Means UMAP')\n",
    "plt.scatter(x=embedding[:,0], y=embedding[:,1], c=labels)"
   ]
  },
  {
   "cell_type": "markdown",
   "metadata": {
    "id": "vZv_Nrg6c1Pe"
   },
   "source": [
    "## T-SNE"
   ]
  },
  {
   "cell_type": "code",
   "execution_count": null,
   "metadata": {
    "id": "gNG_Soc6aXeA"
   },
   "outputs": [],
   "source": [
    "from sklearn.manifold import TSNE\n",
    "\n",
    "tsne = TSNE(n_components=2)\n",
    "tsne_results = tsne.fit_transform(new_data)"
   ]
  },
  {
   "cell_type": "code",
   "execution_count": null,
   "metadata": {
    "id": "tHhqPDALccld"
   },
   "outputs": [],
   "source": [
    "plt.title('K-Means t-SNE')\n",
    "plt.scatter(x=tsne_results[:,0], y=tsne_results[:,1], c=labels)"
   ]
  }
 ],
 "metadata": {
  "colab": {
   "provenance": []
  },
  "kernelspec": {
   "display_name": "Python 3 (ipykernel)",
   "language": "python",
   "name": "python3"
  },
  "language_info": {
   "codemirror_mode": {
    "name": "ipython",
    "version": 3
   },
   "file_extension": ".py",
   "mimetype": "text/x-python",
   "name": "python",
   "nbconvert_exporter": "python",
   "pygments_lexer": "ipython3",
   "version": "3.11.3"
  }
 },
 "nbformat": 4,
 "nbformat_minor": 1
}
